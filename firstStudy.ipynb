{
 "cells": [
  {
   "cell_type": "markdown",
   "metadata": {},
   "source": [
    "### Step 2: measurement matrix"
   ]
  },
  {
   "cell_type": "markdown",
   "metadata": {},
   "source": [
    "$$\n",
    "y_{block} = \\Phi_{p,d} \\cdot x_{block}\n",
    "$$\n",
    "\n",
    "__How the measurement matrix is generated__\n",
    "\n",
    "The elements of $\\Phi_{p,d}$ are drawn from a Bernoulli distribution, which is a discrete probability distribution.\n",
    "\n",
    "For each element $\\phi_{ij}$ of the matrix $\\Phi$, a random value is generated that is either $+1$ or $-1$ with equal probability. This distribution is chosen because it allows the measurement matrix to have good properties for random projections, such as preserving the signal structure and ensuring that the Restricted Isometry Property (RIP) holds with high probability, which is crucial for accurate recovery of the original signal from its compressed measurements.\n",
    "\n",
    "Mathematically, the generation process can be described as:\n",
    "$$\n",
    "\\phi_{ij} \\sim \\text{Bernoulli}(0.5) \\times 2 - 1\n",
    "$$\n",
    "This formula generates each element $\\phi_{ij}$ to be either $+1$ or $-1$, ensuring that the matrix is suitable for the compressed sensing application in the context of ECG signal processing.\n",
    "\n",
    "The same measurement matrix $\\Phi$ is used for all blocks of the signal in order to reduce computational complexity and storage requirements, which is particularly important for devices with limited resources, such as portable ECG devices.\n"
   ]
  },
  {
   "cell_type": "markdown",
   "metadata": {},
   "source": [
    "__How to Check that Restricted Isometry Property holds__\n",
    "\n",
    "As previously explained in the theoretical review the Restricted Isometry Property (RIP) is crucial in ensuring that compressed sensing can accurately recover sparse signals from a reduced set of measurements. \n",
    "\n",
    "However checking whether a specific matrix $A$ satisfies the RIP is computationally infeasible for large matrices because it would involve verifying this condition across all possible sparse vectors. \n",
    "\n",
    "Despite this difficulty, generating the measurement matrix $\\Phi$ randomly (for example, with entries drawn from a Bernoulli distribution) ensures that $A = \\Phi \\Psi$ is very likely to satisfy the RIP.__*__ This inherent randomness provides a strong theoretical basis for the effectiveness of compressed sensing without the need for direct verification of the RIP.\n",
    "\n",
    "__*__ Izadi, V., Karimi Shahri, P., & Ahani, H. (2020). A compressed-sensing-based compressor for ECG. Biomedical Engineering Letters, 10(3), 299-307. https://doi.org/10.1007/s13534-020-00148-7\n"
   ]
  },
  {
   "cell_type": "markdown",
   "metadata": {},
   "source": [
    "__Choice of block dimension__\n",
    "\n",
    "One of the goals of this study is to demonstrate that a smaller value of $d$, hence a smaller _measurement matrix_ $\\Phi$ will result in a more efficient (time complexity-wise) compression process.\n",
    "\n",
    "In the next code block we choose a very small __block size__ $d$, in the last part of the project we will provide an actual study of the relation between the processing time and the __block size__, experiment with different matrices: $\\Phi_{4,16}, \\Phi_{8,32}, \\Phi_{16,64}, \\Phi_{32,128}, \\Phi_{64,256}, \\Phi_{128,512}, \\Phi_{256,1024}$"
   ]
  },
  {
   "cell_type": "markdown",
   "metadata": {},
   "source": [
    "__How many measurement matrices?__\n",
    "\n",
    "The project aims to emulate what would be possible to do on a very small devide with __limited computation capabilities and storage capacity__, to find the best methods in such system. Even though it's technically possible to use a different random _measurement matrix_ for each __signal block__, the idea is to use the same $\\Phi$ for the whole signal, as it would be advisable to do in a portable ECG device."
   ]
  },
  {
   "cell_type": "code",
   "execution_count": null,
   "metadata": {},
   "outputs": [],
   "source": [
    "# Measurement matrix Φ\n",
    "def generate_measurement_matrix(rows, cols):\n",
    "    \"\"\"\n",
    "    Generates a random measurement matrix with the specified number of rows and columns.\n",
    "\n",
    "    Parameters:\n",
    "    - rows (int): The number of rows in the measurement matrix.\n",
    "    - cols (int): The number of columns in the measurement matrix.\n",
    "\n",
    "    Returns:\n",
    "    - numpy.ndarray: The generated measurement matrix with shape (rows, cols).\n",
    "\n",
    "    Description:\n",
    "    This function generates a random measurement matrix with the specified number of rows and columns. \n",
    "    The measurement matrix is created by randomly choosing either -1 or 1 for each element in the matrix.\n",
    "    The resulting matrix is returned as a numpy array.\n",
    "    \"\"\"\n",
    "\n",
    "    return np.random.choice([-1, 1], size=(rows, cols))"
   ]
  },
  {
   "cell_type": "markdown",
   "metadata": {},
   "source": [
    "### Step 3: concatenating compressed blocks"
   ]
  },
  {
   "cell_type": "markdown",
   "metadata": {},
   "source": [
    "In this step we have a function that uses previously defined functions to compute for each block\n",
    "$$\n",
    "y_{block} = \\Phi_{p,d} \\cdot \\Psi^H s_{block}\n",
    "$$\n",
    "Then it concatenates all the $y_{block}$ to obtain $y$ _compressed measure_."
   ]
  }
 ],
 "metadata": {
  "kernelspec": {
   "display_name": "Python 3",
   "language": "python",
   "name": "python3"
  },
  "language_info": {
   "codemirror_mode": {
    "name": "ipython",
    "version": 3
   },
   "file_extension": ".py",
   "mimetype": "text/x-python",
   "name": "python",
   "nbconvert_exporter": "python",
   "pygments_lexer": "ipython3",
   "version": "3.8.19"
  }
 },
 "nbformat": 4,
 "nbformat_minor": 2
}
