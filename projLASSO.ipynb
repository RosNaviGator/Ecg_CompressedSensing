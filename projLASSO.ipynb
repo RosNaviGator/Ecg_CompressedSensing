{
 "cells": [
  {
   "cell_type": "code",
   "execution_count": 1,
   "metadata": {},
   "outputs": [
    {
     "name": "stdout",
     "output_type": "stream",
     "text": [
      "Shape of s_hat: (5,)\n",
      "s_hat: [ 0.07354934 -0.01530343  0.         -0.          0.        ]\n"
     ]
    }
   ],
   "source": [
    "import numpy as np\n",
    "from sklearn.linear_model import Lasso\n",
    "\n",
    "# Example data\n",
    "m, n = 10, 5  # 10 measurements, 5 features\n",
    "Theta = np.random.randn(m, n)\n",
    "y = np.random.randn(m)\n",
    "\n",
    "# Initialize the LASSO model\n",
    "lasso = Lasso(alpha=0.1, max_iter=1000)\n",
    "\n",
    "# Fit the model to find the sparse representation\n",
    "lasso.fit(Theta, y)\n",
    "\n",
    "# Get the estimated sparse representation\n",
    "s_hat = lasso.coef_\n",
    "\n",
    "print(\"Shape of s_hat:\", s_hat.shape)\n",
    "print(\"s_hat:\", s_hat)\n"
   ]
  }
 ],
 "metadata": {
  "kernelspec": {
   "display_name": ".namlVenv",
   "language": "python",
   "name": "python3"
  },
  "language_info": {
   "codemirror_mode": {
    "name": "ipython",
    "version": 3
   },
   "file_extension": ".py",
   "mimetype": "text/x-python",
   "name": "python",
   "nbconvert_exporter": "python",
   "pygments_lexer": "ipython3",
   "version": "3.8.19"
  }
 },
 "nbformat": 4,
 "nbformat_minor": 2
}
